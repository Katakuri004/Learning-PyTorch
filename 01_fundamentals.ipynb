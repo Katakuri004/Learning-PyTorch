{
 "cells": [
  {
   "cell_type": "code",
   "execution_count": 6,
   "id": "64dc0f9b",
   "metadata": {},
   "outputs": [],
   "source": [
    "import torch \n",
    "import pandas as pd\n",
    "import numpy as np\n",
    "import os\n",
    "import matplotlib.pyplot as plt\n"
   ]
  },
  {
   "cell_type": "markdown",
   "id": "cd6b294b",
   "metadata": {},
   "source": [
    "## Introduction to Tensors"
   ]
  },
  {
   "cell_type": "code",
   "execution_count": 8,
   "id": "60608c77",
   "metadata": {},
   "outputs": [
    {
     "data": {
      "text/plain": [
       "tensor(7)"
      ]
     },
     "execution_count": 8,
     "metadata": {},
     "output_type": "execute_result"
    }
   ],
   "source": [
    "\n",
    "#creating a scalar\n",
    "scalar = torch.tensor(7)\n",
    "scalar"
   ]
  },
  {
   "cell_type": "code",
   "execution_count": 9,
   "id": "bbfc4e91",
   "metadata": {},
   "outputs": [
    {
     "data": {
      "text/plain": [
       "0"
      ]
     },
     "execution_count": 9,
     "metadata": {},
     "output_type": "execute_result"
    }
   ],
   "source": [
    "scalar.ndim"
   ]
  },
  {
   "cell_type": "code",
   "execution_count": null,
   "id": "e3ffb60d",
   "metadata": {},
   "outputs": [
    {
     "data": {
      "text/plain": [
       "7"
      ]
     },
     "execution_count": 11,
     "metadata": {},
     "output_type": "execute_result"
    }
   ],
   "source": [
    "#Getting the value of a scalar\n",
    "scalar.item()"
   ]
  },
  {
   "cell_type": "code",
   "execution_count": 12,
   "id": "c183687b",
   "metadata": {},
   "outputs": [
    {
     "data": {
      "text/plain": [
       "tensor([7, 7])"
      ]
     },
     "execution_count": 12,
     "metadata": {},
     "output_type": "execute_result"
    }
   ],
   "source": [
    "#vector\n",
    "vector = torch.tensor([7, 7])\n",
    "vector"
   ]
  },
  {
   "cell_type": "code",
   "execution_count": 13,
   "id": "adf4b185",
   "metadata": {},
   "outputs": [
    {
     "data": {
      "text/plain": [
       "1"
      ]
     },
     "execution_count": 13,
     "metadata": {},
     "output_type": "execute_result"
    }
   ],
   "source": [
    "vector.ndim"
   ]
  },
  {
   "cell_type": "code",
   "execution_count": 14,
   "id": "bf13e40e",
   "metadata": {},
   "outputs": [
    {
     "data": {
      "text/plain": [
       "torch.Size([2])"
      ]
     },
     "execution_count": 14,
     "metadata": {},
     "output_type": "execute_result"
    }
   ],
   "source": [
    "vector.shape"
   ]
  },
  {
   "cell_type": "code",
   "execution_count": 18,
   "id": "9d999ff1",
   "metadata": {},
   "outputs": [
    {
     "data": {
      "text/plain": [
       "tensor([[ 7,  8],\n",
       "        [ 9, 10]])"
      ]
     },
     "execution_count": 18,
     "metadata": {},
     "output_type": "execute_result"
    }
   ],
   "source": [
    "#MATRIX\n",
    "matrix = torch.tensor([[7, 8],\n",
    "                       [9, 10]])\n",
    "matrix"
   ]
  },
  {
   "cell_type": "code",
   "execution_count": 19,
   "id": "691be120",
   "metadata": {},
   "outputs": [
    {
     "data": {
      "text/plain": [
       "2"
      ]
     },
     "execution_count": 19,
     "metadata": {},
     "output_type": "execute_result"
    }
   ],
   "source": [
    "matrix.ndim"
   ]
  },
  {
   "cell_type": "code",
   "execution_count": 20,
   "id": "dcfceedf",
   "metadata": {},
   "outputs": [
    {
     "data": {
      "text/plain": [
       "torch.Size([2, 2])"
      ]
     },
     "execution_count": 20,
     "metadata": {},
     "output_type": "execute_result"
    }
   ],
   "source": [
    "matrix.shape"
   ]
  },
  {
   "cell_type": "code",
   "execution_count": 25,
   "id": "678a60d1",
   "metadata": {},
   "outputs": [
    {
     "data": {
      "text/plain": [
       "tensor([[[1, 2, 3],\n",
       "         [3, 6, 9],\n",
       "         [2, 4, 5]]])"
      ]
     },
     "execution_count": 25,
     "metadata": {},
     "output_type": "execute_result"
    }
   ],
   "source": [
    "# Tensor\n",
    "TENSOR = torch.tensor([[[1, 2, 3],\n",
    "                        [3, 6, 9],\n",
    "                        [2, 4, 5]]])\n",
    "TENSOR\n"
   ]
  },
  {
   "cell_type": "code",
   "execution_count": 26,
   "id": "a97164ce",
   "metadata": {},
   "outputs": [
    {
     "data": {
      "text/plain": [
       "3"
      ]
     },
     "execution_count": 26,
     "metadata": {},
     "output_type": "execute_result"
    }
   ],
   "source": [
    "TENSOR.ndim"
   ]
  },
  {
   "cell_type": "code",
   "execution_count": 27,
   "id": "ffde093d",
   "metadata": {},
   "outputs": [
    {
     "data": {
      "text/plain": [
       "torch.Size([1, 3, 3])"
      ]
     },
     "execution_count": 27,
     "metadata": {},
     "output_type": "execute_result"
    }
   ],
   "source": [
    "TENSOR.shape"
   ]
  },
  {
   "cell_type": "markdown",
   "id": "d806ee0f",
   "metadata": {},
   "source": [
    "### Random Tensors"
   ]
  },
  {
   "cell_type": "code",
   "execution_count": 43,
   "id": "d7bb35a5",
   "metadata": {},
   "outputs": [],
   "source": [
    "random_tensor = torch.rand(5, 5 ,5)"
   ]
  },
  {
   "cell_type": "code",
   "execution_count": 44,
   "id": "ea5c6fc9",
   "metadata": {},
   "outputs": [
    {
     "data": {
      "text/plain": [
       "torch.Size([5, 5, 5])"
      ]
     },
     "execution_count": 44,
     "metadata": {},
     "output_type": "execute_result"
    }
   ],
   "source": [
    "random_tensor.shape"
   ]
  },
  {
   "cell_type": "code",
   "execution_count": 45,
   "id": "5e409c02",
   "metadata": {},
   "outputs": [
    {
     "data": {
      "text/plain": [
       "tensor([[[0.4897, 0.8242, 0.9058, 0.8106, 0.7968],\n",
       "         [0.4355, 0.0148, 0.8404, 0.2445, 0.9131],\n",
       "         [0.5769, 0.2588, 0.9751, 0.3639, 0.6750],\n",
       "         [0.5557, 0.2569, 0.0024, 0.6203, 0.4004],\n",
       "         [0.9027, 0.8965, 0.8390, 0.9435, 0.4552]],\n",
       "\n",
       "        [[0.1318, 0.5342, 0.1847, 0.5505, 0.5885],\n",
       "         [0.6691, 0.2745, 0.4461, 0.4980, 0.6257],\n",
       "         [0.6376, 0.9984, 0.5778, 0.8641, 0.5197],\n",
       "         [0.9434, 0.0054, 0.0700, 0.5075, 0.1520],\n",
       "         [0.7488, 0.1055, 0.9822, 0.8807, 0.5178]],\n",
       "\n",
       "        [[0.6796, 0.3407, 0.4280, 0.8602, 0.4996],\n",
       "         [0.0598, 0.4911, 0.2896, 0.5901, 0.6821],\n",
       "         [0.5825, 0.2537, 0.7667, 0.7304, 0.2981],\n",
       "         [0.9807, 0.2733, 0.0287, 0.5756, 0.3880],\n",
       "         [0.7587, 0.2639, 0.0340, 0.5828, 0.6484]],\n",
       "\n",
       "        [[0.1596, 0.4624, 0.6567, 0.4927, 0.8562],\n",
       "         [0.1272, 0.7472, 0.1152, 0.9970, 0.7259],\n",
       "         [0.3132, 0.1315, 0.7464, 0.0299, 0.4032],\n",
       "         [0.3197, 0.3551, 0.6315, 0.7923, 0.5915],\n",
       "         [0.5237, 0.3989, 0.3674, 0.0106, 0.9080]],\n",
       "\n",
       "        [[0.8973, 0.4516, 0.4863, 0.6574, 0.0125],\n",
       "         [0.8770, 0.1589, 0.7287, 0.9272, 0.5262],\n",
       "         [0.8131, 0.0856, 0.3251, 0.7180, 0.7424],\n",
       "         [0.9932, 0.8560, 0.2537, 0.9638, 0.3459],\n",
       "         [0.9517, 0.4667, 0.8155, 0.6535, 0.8368]]])"
      ]
     },
     "execution_count": 45,
     "metadata": {},
     "output_type": "execute_result"
    }
   ],
   "source": [
    "random_tensor"
   ]
  },
  {
   "cell_type": "code",
   "execution_count": 46,
   "id": "13afddbf",
   "metadata": {},
   "outputs": [],
   "source": [
    "image_tenor = torch.rand(224, 224, 3)"
   ]
  },
  {
   "cell_type": "code",
   "execution_count": 47,
   "id": "2c432a67",
   "metadata": {},
   "outputs": [
    {
     "data": {
      "text/plain": [
       "tensor([[[5.5610e-01, 3.7368e-01, 9.8734e-01],\n",
       "         [9.4727e-01, 2.8523e-01, 1.0603e-01],\n",
       "         [5.4287e-02, 2.4393e-01, 6.8874e-01],\n",
       "         ...,\n",
       "         [4.2674e-01, 5.4678e-01, 6.2292e-01],\n",
       "         [9.9344e-02, 2.8484e-01, 8.1910e-01],\n",
       "         [2.2532e-01, 2.9907e-01, 6.2735e-02]],\n",
       "\n",
       "        [[6.5594e-01, 4.9795e-02, 5.8367e-01],\n",
       "         [8.3696e-02, 8.8939e-01, 3.7934e-01],\n",
       "         [1.0371e-01, 8.7800e-01, 3.9936e-01],\n",
       "         ...,\n",
       "         [3.5231e-01, 2.7436e-01, 1.1588e-01],\n",
       "         [4.9112e-01, 2.9968e-01, 8.6960e-01],\n",
       "         [1.5403e-01, 2.5398e-01, 4.5841e-01]],\n",
       "\n",
       "        [[7.9745e-01, 5.1091e-01, 3.3262e-02],\n",
       "         [3.2693e-01, 1.1559e-01, 5.3940e-01],\n",
       "         [8.8956e-01, 6.8464e-01, 3.1046e-01],\n",
       "         ...,\n",
       "         [8.6611e-01, 9.9502e-01, 6.4534e-01],\n",
       "         [3.3171e-01, 1.0943e-01, 8.7161e-01],\n",
       "         [5.6774e-01, 2.1789e-01, 1.4536e-02]],\n",
       "\n",
       "        ...,\n",
       "\n",
       "        [[7.3954e-01, 2.8500e-02, 5.4863e-01],\n",
       "         [1.7083e-04, 6.1391e-01, 2.9552e-01],\n",
       "         [1.6239e-01, 1.9426e-01, 1.5457e-01],\n",
       "         ...,\n",
       "         [4.5130e-01, 2.4027e-02, 3.9616e-01],\n",
       "         [1.6810e-01, 9.8055e-01, 4.7201e-01],\n",
       "         [5.6994e-01, 5.5841e-01, 3.0988e-01]],\n",
       "\n",
       "        [[7.1863e-01, 2.5393e-01, 7.2909e-01],\n",
       "         [4.0116e-01, 7.1621e-01, 7.3212e-01],\n",
       "         [9.5592e-02, 4.1539e-01, 8.5260e-02],\n",
       "         ...,\n",
       "         [6.1514e-01, 6.8125e-01, 2.6945e-01],\n",
       "         [8.8991e-01, 2.0045e-01, 7.9342e-02],\n",
       "         [6.5794e-01, 7.6018e-01, 6.1981e-01]],\n",
       "\n",
       "        [[5.2272e-01, 7.0877e-01, 1.9289e-01],\n",
       "         [7.6317e-01, 3.4394e-01, 2.4396e-01],\n",
       "         [1.8191e-01, 7.6202e-01, 4.1067e-01],\n",
       "         ...,\n",
       "         [7.9213e-01, 5.1926e-01, 5.6007e-01],\n",
       "         [7.1347e-01, 2.4934e-01, 7.1456e-01],\n",
       "         [2.2594e-01, 4.6336e-01, 6.2708e-02]]])"
      ]
     },
     "execution_count": 47,
     "metadata": {},
     "output_type": "execute_result"
    }
   ],
   "source": [
    "image_tenor"
   ]
  },
  {
   "cell_type": "code",
   "execution_count": 48,
   "id": "d5f05738",
   "metadata": {},
   "outputs": [
    {
     "data": {
      "text/plain": [
       "torch.Size([224, 224, 3])"
      ]
     },
     "execution_count": 48,
     "metadata": {},
     "output_type": "execute_result"
    }
   ],
   "source": [
    "image_tenor.shape"
   ]
  },
  {
   "cell_type": "code",
   "execution_count": 50,
   "id": "2f3ca5f5",
   "metadata": {},
   "outputs": [
    {
     "data": {
      "text/plain": [
       "3"
      ]
     },
     "execution_count": 50,
     "metadata": {},
     "output_type": "execute_result"
    }
   ],
   "source": [
    "image_tenor.ndim"
   ]
  },
  {
   "cell_type": "code",
   "execution_count": 59,
   "id": "a877e528",
   "metadata": {},
   "outputs": [
    {
     "data": {
      "text/plain": [
       "tensor([[0., 0., 0., 0.],\n",
       "        [0., 0., 0., 0.],\n",
       "        [0., 0., 0., 0.]])"
      ]
     },
     "execution_count": 59,
     "metadata": {},
     "output_type": "execute_result"
    }
   ],
   "source": [
    "#create a tensor of all zeros\n",
    "zeros_tensor = torch.zeros(3, 4)\n",
    "zeros_tensor"
   ]
  },
  {
   "cell_type": "code",
   "execution_count": 60,
   "id": "bfbc18db",
   "metadata": {},
   "outputs": [
    {
     "data": {
      "text/plain": [
       "tensor([[1., 1., 1., 1.],\n",
       "        [1., 1., 1., 1.],\n",
       "        [1., 1., 1., 1.]])"
      ]
     },
     "execution_count": 60,
     "metadata": {},
     "output_type": "execute_result"
    }
   ],
   "source": [
    "ones_tensor = torch.ones(3, 4)\n",
    "ones_tensor"
   ]
  },
  {
   "cell_type": "code",
   "execution_count": 63,
   "id": "f010c028",
   "metadata": {},
   "outputs": [
    {
     "data": {
      "text/plain": [
       "torch.float32"
      ]
     },
     "execution_count": 63,
     "metadata": {},
     "output_type": "execute_result"
    }
   ],
   "source": [
    "ones_tensor.dtype"
   ]
  },
  {
   "cell_type": "code",
   "execution_count": 68,
   "id": "8b126750",
   "metadata": {},
   "outputs": [
    {
     "data": {
      "text/plain": [
       "tensor([  0,  80, 160, 240, 320, 400, 480, 560, 640, 720, 800, 880, 960])"
      ]
     },
     "execution_count": 68,
     "metadata": {},
     "output_type": "execute_result"
    }
   ],
   "source": [
    "#create a range of numbers\n",
    "range_tensor = torch.arange(start=0, end=1000 , step=80)\n",
    "range_tensor"
   ]
  },
  {
   "cell_type": "code",
   "execution_count": 70,
   "id": "11bbcde5",
   "metadata": {},
   "outputs": [
    {
     "data": {
      "text/plain": [
       "tensor([1, 1, 1, 1, 1, 1, 1, 1, 1, 1, 1, 1, 1])"
      ]
     },
     "execution_count": 70,
     "metadata": {},
     "output_type": "execute_result"
    }
   ],
   "source": [
    "#creating tensor like\n",
    "tensor_ones = torch.ones_like(input=range_tensor)\n",
    "tensor_ones"
   ]
  },
  {
   "cell_type": "code",
   "execution_count": 75,
   "id": "c0c77b7f",
   "metadata": {},
   "outputs": [
    {
     "data": {
      "text/plain": [
       "tensor([3., 6., 9.], dtype=torch.float64)"
      ]
     },
     "execution_count": 75,
     "metadata": {},
     "output_type": "execute_result"
    }
   ],
   "source": [
    "float_tensor = torch.tensor([3.0, 6.0, 9.0], dtype=torch.float64 , device=None)\n",
    "float_tensor"
   ]
  },
  {
   "cell_type": "code",
   "execution_count": 76,
   "id": "63d6e532",
   "metadata": {},
   "outputs": [
    {
     "data": {
      "text/plain": [
       "torch.float64"
      ]
     },
     "execution_count": 76,
     "metadata": {},
     "output_type": "execute_result"
    }
   ],
   "source": [
    "float_tensor.dtype"
   ]
  },
  {
   "cell_type": "code",
   "execution_count": 77,
   "id": "d3d859ef",
   "metadata": {},
   "outputs": [
    {
     "data": {
      "text/plain": [
       "tensor([3, 6, 9], dtype=torch.int32)"
      ]
     },
     "execution_count": 77,
     "metadata": {},
     "output_type": "execute_result"
    }
   ],
   "source": [
    "int_32_tensor = torch.tensor([3, 6, 9], dtype=torch.int32 , device=None)\n",
    "int_32_tensor"
   ]
  },
  {
   "cell_type": "code",
   "execution_count": 78,
   "id": "14d41754",
   "metadata": {},
   "outputs": [],
   "source": [
    "int_16_tensor = torch.tensor([3, 6, 9], dtype=torch.int16 , device=None)"
   ]
  },
  {
   "cell_type": "code",
   "execution_count": 80,
   "id": "e0911e72",
   "metadata": {},
   "outputs": [],
   "source": [
    "result_tensor = int_32_tensor * int_16_tensor"
   ]
  },
  {
   "cell_type": "code",
   "execution_count": 81,
   "id": "125c5716",
   "metadata": {},
   "outputs": [
    {
     "data": {
      "text/plain": [
       "torch.int32"
      ]
     },
     "execution_count": 81,
     "metadata": {},
     "output_type": "execute_result"
    }
   ],
   "source": [
    "result_tensor.dtype"
   ]
  },
  {
   "cell_type": "code",
   "execution_count": 82,
   "id": "45236bd5",
   "metadata": {},
   "outputs": [
    {
     "data": {
      "text/plain": [
       "device(type='cpu')"
      ]
     },
     "execution_count": 82,
     "metadata": {},
     "output_type": "execute_result"
    }
   ],
   "source": [
    "result_tensor.device"
   ]
  },
  {
   "cell_type": "markdown",
   "id": "3ea64a10",
   "metadata": {},
   "source": [
    "## Maniplating Tensors"
   ]
  },
  {
   "cell_type": "code",
   "execution_count": 85,
   "id": "fc06da1c",
   "metadata": {},
   "outputs": [],
   "source": [
    "tensor1 = torch.rand(3, 4, 5)\n",
    "tensor2 = torch.rand(3, 4, 5)"
   ]
  },
  {
   "cell_type": "code",
   "execution_count": 88,
   "id": "d831f8c3",
   "metadata": {},
   "outputs": [],
   "source": [
    "tensor1 += 10"
   ]
  },
  {
   "cell_type": "code",
   "execution_count": 89,
   "id": "e7246357",
   "metadata": {},
   "outputs": [
    {
     "data": {
      "text/plain": [
       "tensor([[[10.6221, 10.5044, 10.0940, 10.5722, 10.7391],\n",
       "         [10.9228, 10.6668, 10.4521, 10.9039, 10.6302],\n",
       "         [10.3868, 10.8666, 10.5431, 10.5482, 10.9593],\n",
       "         [10.8357, 10.7215, 10.5383, 10.2402, 10.4642]],\n",
       "\n",
       "        [[10.1630, 10.5468, 10.3133, 10.9163, 10.6023],\n",
       "         [10.5243, 10.3016, 10.4094, 10.9905, 10.1387],\n",
       "         [10.6303, 10.8394, 10.0402, 10.9096, 10.8588],\n",
       "         [10.0576, 10.7303, 10.6137, 10.8724, 10.5796]],\n",
       "\n",
       "        [[10.9440, 10.3646, 10.2797, 10.0870, 10.5733],\n",
       "         [10.8311, 10.2697, 10.2392, 10.6396, 10.5551],\n",
       "         [10.5946, 10.4984, 10.6648, 10.3260, 10.2530],\n",
       "         [10.9586, 10.8623, 10.3108, 10.3636, 10.1232]]])"
      ]
     },
     "execution_count": 89,
     "metadata": {},
     "output_type": "execute_result"
    }
   ],
   "source": [
    "tensor1"
   ]
  },
  {
   "cell_type": "code",
   "execution_count": 91,
   "id": "1e63a252",
   "metadata": {},
   "outputs": [
    {
     "data": {
      "text/plain": [
       "tensor([[[ 3.2539,  7.2140,  7.9061,  4.8517,  5.3518],\n",
       "         [ 2.4323,  5.9440,  2.9151,  4.4037,  6.3078],\n",
       "         [ 4.8520,  9.1918,  0.0630,  8.3247,  4.4112],\n",
       "         [ 3.4602,  6.3995,  0.2895,  6.8064,  0.4226]],\n",
       "\n",
       "        [[ 3.0303,  9.0930,  5.2202,  8.7594,  0.6816],\n",
       "         [ 4.7323,  1.4515,  6.8288,  1.4771,  9.0716],\n",
       "         [ 7.9756,  3.8232,  3.9894,  4.8331, 10.4881],\n",
       "         [ 6.1013,  8.2376,  2.9520,  1.3599,  2.7919]],\n",
       "\n",
       "        [[ 3.2258,  5.7655,  3.5764,  6.0506,  6.4870],\n",
       "         [ 5.4175,  5.5791,  3.8658,  9.4282,  6.1817],\n",
       "         [ 8.8168,  6.2803,  9.0383,  9.6670,  1.0142],\n",
       "         [ 9.5892,  2.2068,  4.3747,  0.9515,  7.6395]]])"
      ]
     },
     "execution_count": 91,
     "metadata": {},
     "output_type": "execute_result"
    }
   ],
   "source": [
    "mult_tensor = torch.mul(tensor1, tensor2)\n",
    "mult_tensor"
   ]
  },
  {
   "cell_type": "code",
   "execution_count": 94,
   "id": "e26493d0",
   "metadata": {},
   "outputs": [
    {
     "data": {
      "text/plain": [
       "tensor([[ 5, 12],\n",
       "        [21, 32]])"
      ]
     },
     "execution_count": 94,
     "metadata": {},
     "output_type": "execute_result"
    }
   ],
   "source": [
    "## Matrix Multiplication\n",
    "\n",
    "# Matrix multiplication in PyTorch\n",
    "matrix1 = torch.tensor([[1, 2],\n",
    "                         [3, 4]])\n",
    "matrix2 = torch.tensor([[5, 6],\n",
    "                         [7, 8]])\n",
    "\n",
    "# Matrix multiplication using torch.mm()\n",
    "matrix_mult = torch.mm(matrix1, matrix2)\n",
    "matrix_mult\n",
    "# Matrix multiplication using the @ operator\n",
    "matrix_mult_operator = matrix1 @ matrix2\n",
    "\n",
    "matrix_mult_operator\n",
    "# Element-wise multiplication\n",
    "elementwise_mult = matrix1 * matrix2\n",
    "elementwise_mult\n"
   ]
  },
  {
   "cell_type": "code",
   "execution_count": 96,
   "id": "ce4b3141",
   "metadata": {},
   "outputs": [
    {
     "name": "stdout",
     "output_type": "stream",
     "text": [
      "CPU times: total: 0 ns\n",
      "Wall time: 261 μs\n"
     ]
    },
    {
     "data": {
      "text/plain": [
       "tensor([[19, 22],\n",
       "        [43, 50]])"
      ]
     },
     "execution_count": 96,
     "metadata": {},
     "output_type": "execute_result"
    }
   ],
   "source": [
    "%%time\n",
    "\n",
    "# Matrix multiplication in PyTorch\n",
    "matrix1 = torch.tensor([[1, 2],\n",
    "                         [3, 4]])\n",
    "matrix2 = torch.tensor([[5, 6],\n",
    "                         [7, 8]])\n",
    "\n",
    "# Matrix multiplication using torch.mm()\n",
    "matrix_mult = torch.mm(matrix1, matrix2)\n",
    "matrix_mult"
   ]
  },
  {
   "cell_type": "code",
   "execution_count": 101,
   "id": "1f78cc0b",
   "metadata": {},
   "outputs": [
    {
     "name": "stdout",
     "output_type": "stream",
     "text": [
      " CPU times: total: 391 ms\n",
      "Wall time: 435 ms\n"
     ]
    },
    {
     "name": "stdout",
     "output_type": "stream",
     "text": [
      "         4 function calls in 0.005 seconds\n",
      "\n",
      "   Ordered by: internal time\n",
      "\n",
      "   ncalls  tottime  percall  cumtime  percall filename:lineno(function)\n",
      "        1    0.005    0.005    0.005    0.005 {built-in method torch.mm}\n",
      "        1    0.000    0.000    0.005    0.005 <string>:1(<module>)\n",
      "        1    0.000    0.000    0.000    0.000 {method 'disable' of '_lsprof.Profiler' objects}\n",
      "        1    0.000    0.000    0.005    0.005 {built-in method builtins.exec}"
     ]
    }
   ],
   "source": [
    "%%time\n",
    "\n",
    "large_tensor1 = torch.rand(1000, 1000 ) \n",
    "large_tensor2 = torch.rand(1000, 1000)\n",
    "# Matrix multiplication using torch.mm()\n",
    "%prun large_matrix_mult = torch.mm(large_tensor1, large_tensor2)\n",
    "\n"
   ]
  },
  {
   "cell_type": "code",
   "execution_count": 107,
   "id": "56c0de9f",
   "metadata": {},
   "outputs": [
    {
     "name": "stdout",
     "output_type": "stream",
     "text": [
      "CPU times: total: 0 ns\n",
      "Wall time: 31 μs\n",
      "Minimum index: 0\n",
      "Maximum index: 8\n",
      "Minimum: 1\n",
      "Maximum: 9\n",
      "Mean: 5.0\n",
      "Sum: 45\n",
      "Standard Deviation: 2.7386128902435303\n",
      "Variance: 7.5\n",
      "CPU times: total: 0 ns\n",
      "Wall time: 10.6 ms\n"
     ]
    }
   ],
   "source": [
    "%%time\n",
    "## Tensor Aggregation\n",
    "\n",
    "tensor_agg = torch.tensor([[1, 2, 3],\n",
    "                            [4, 5, 6],\n",
    "                            [7, 8, 9]])\n",
    "# Find the minimum value\n",
    "%time min_val = torch.min(tensor_agg)\n",
    "# Find the maximum value\n",
    "max_val = torch.max(tensor_agg)\n",
    "# Find the mean value\n",
    "mean_val = torch.mean(tensor_agg.float())\n",
    "# Find the sum of all elements\n",
    "sum_val = torch.sum(tensor_agg)\n",
    "# Find the standard deviation\n",
    "std_val = torch.std(tensor_agg.float())\n",
    "# Find the variance\n",
    "var_val = torch.var(tensor_agg.float())\n",
    "# Print the results\n",
    "\n",
    "#return the index of the minimum value\n",
    "min_index = torch.argmin(tensor_agg)\n",
    "print(f\"Minimum index: {min_index}\")\n",
    "#return the index of the maximum value\n",
    "max_index = torch.argmax(tensor_agg)\n",
    "print(f\"Maximum index: {max_index}\")\n",
    "print(f\"Minimum: {min_val}\")\n",
    "print(f\"Maximum: {max_val}\")\n",
    "print(f\"Mean: {mean_val}\")\n",
    "print(f\"Sum: {sum_val}\")\n",
    "print(f\"Standard Deviation: {std_val}\")\n",
    "print(f\"Variance: {var_val}\")\n",
    "\n"
   ]
  },
  {
   "cell_type": "code",
   "execution_count": null,
   "id": "bcd3c9e7",
   "metadata": {},
   "outputs": [],
   "source": [
    "#Reshaping - reshapes an inpt tensor to a desired shape\n",
    "#view - returns a new tensor with the same data but a different shape\n",
    "#stacking - combines multiple tensors along a new dimension\n",
    "#squeeze - removes single-dimensional entries from the shape of a tensor\n",
    "#unsqueeze - adds a single-dimensional entry to the shape of a tensor"
   ]
  },
  {
   "cell_type": "code",
   "execution_count": 108,
   "id": "d60c62d8",
   "metadata": {},
   "outputs": [
    {
     "data": {
      "text/plain": [
       "torch.Size([1, 2, 1, 5])"
      ]
     },
     "execution_count": 108,
     "metadata": {},
     "output_type": "execute_result"
    }
   ],
   "source": [
    "x = torch.randn(1,2,1,5)\n",
    "x.shape\n"
   ]
  },
  {
   "cell_type": "code",
   "execution_count": 110,
   "id": "9da4a10f",
   "metadata": {},
   "outputs": [
    {
     "data": {
      "text/plain": [
       "torch.Size([2, 5])"
      ]
     },
     "execution_count": 110,
     "metadata": {},
     "output_type": "execute_result"
    }
   ],
   "source": [
    "y = torch.squeeze(x)\n",
    "y.shape"
   ]
  },
  {
   "cell_type": "code",
   "execution_count": null,
   "id": "39d2b0ba",
   "metadata": {},
   "outputs": [
    {
     "data": {
      "text/plain": [
       "torch.Size([2, 1, 1, 5])"
      ]
     },
     "execution_count": 111,
     "metadata": {},
     "output_type": "execute_result"
    }
   ],
   "source": [
    "#torch.permute - returns a view of the original tensor with its dimensions permuted\n",
    "z = torch.permute(x, (1, 0, 2, 3))\n",
    "z.shape\n"
   ]
  },
  {
   "cell_type": "code",
   "execution_count": null,
   "id": "f61297ff",
   "metadata": {},
   "outputs": [],
   "source": [
    "#image_tensor = torch.rand(224, 224, 3)\n",
    "x_imng = torch.rand(224, 224, 3)\n",
    "#Permute\n",
    "x_imng_permuted = torch.permute(x_imng, (2, 0, 1))"
   ]
  },
  {
   "cell_type": "markdown",
   "id": "a064c6d9",
   "metadata": {},
   "source": [
    "## Pytorch Tensors and Numpy"
   ]
  },
  {
   "cell_type": "code",
   "execution_count": 114,
   "id": "ab4cc23d",
   "metadata": {},
   "outputs": [
    {
     "name": "stdout",
     "output_type": "stream",
     "text": [
      "NumPy Array:\n",
      " [[1 2 3]\n",
      " [4 5 6]]\n"
     ]
    }
   ],
   "source": [
    "#numpy to PyTorch tensor \n",
    "numpy_array = np.array([[1, 2, 3],\n",
    "                         [4, 5, 6]])\n",
    "torch_tensor = torch.from_numpy(numpy_array)\n",
    "\n",
    "# PyTorch tensor to NumPy array\n",
    "numpy_array_from_tensor = torch_tensor.numpy()\n",
    "# Display the results\n",
    "print(\"NumPy Array:\\n\", numpy_array)"
   ]
  },
  {
   "cell_type": "code",
   "execution_count": null,
   "id": "a34a0d8d",
   "metadata": {},
   "outputs": [
    {
     "name": "stdout",
     "output_type": "stream",
     "text": [
      "Using device: cpu\n"
     ]
    }
   ],
   "source": [
    "#Reproducibility\n",
    "# Set the random seed for reproducibility   \n",
    "torch.manual_seed(42)\n",
    "np.random.seed(42)\n",
    "# Check if CUDA is available\n",
    "if torch.cuda.is_available():\n",
    "    device = torch.device(\"cuda\")\n",
    "else:\n",
    "    device = torch.device(\"cpu\")\n",
    "\n",
    "print(f\"Using device: {device}\")\n",
    "\n",
    "# Check if GPU is available\n",
    "if torch.cuda.is_available():\n",
    "    # Create a tensor on the GPU\n",
    "    \n",
    "    print(f\"Tensor on GPU: {gpu_tensor}\")   "
   ]
  },
  {
   "cell_type": "code",
   "execution_count": 131,
   "id": "d239a43f",
   "metadata": {},
   "outputs": [
    {
     "name": "stdout",
     "output_type": "stream",
     "text": [
      "Tue Aug 12 07:59:37 2025       \n",
      "+-----------------------------------------------------------------------------------------+\n",
      "| NVIDIA-SMI 566.49                 Driver Version: 566.49         CUDA Version: 12.7     |\n",
      "|-----------------------------------------+------------------------+----------------------+\n",
      "| GPU  Name                  Driver-Model | Bus-Id          Disp.A | Volatile Uncorr. ECC |\n",
      "| Fan  Temp   Perf          Pwr:Usage/Cap |           Memory-Usage | GPU-Util  Compute M. |\n",
      "|                                         |                        |               MIG M. |\n",
      "|=========================================+========================+======================|\n",
      "|   0  NVIDIA GeForce RTX 4070 ...  WDDM  |   00000000:01:00.0  On |                  N/A |\n",
      "| N/A   46C    P5              6W /   75W |     925MiB /   8188MiB |     30%      Default |\n",
      "|                                         |                        |                  N/A |\n",
      "+-----------------------------------------+------------------------+----------------------+\n",
      "                                                                                         \n",
      "+-----------------------------------------------------------------------------------------+\n",
      "| Processes:                                                                              |\n",
      "|  GPU   GI   CI        PID   Type   Process name                              GPU Memory |\n",
      "|        ID   ID                                                               Usage      |\n",
      "|=========================================================================================|\n",
      "|    0   N/A  N/A      4988    C+G   ...5n1h2txyewy\\ShellExperienceHost.exe      N/A      |\n",
      "|    0   N/A  N/A      6676    C+G   ...siveControlPanel\\SystemSettings.exe      N/A      |\n",
      "|    0   N/A  N/A      7620    C+G   C:\\Windows\\explorer.exe                     N/A      |\n",
      "|    0   N/A  N/A      7708    C+G   ...Brave-Browser\\Application\\brave.exe      N/A      |\n",
      "|    0   N/A  N/A      8120    C+G   C:\\Windows\\System32\\NahimicSvc64.exe        N/A      |\n",
      "|    0   N/A  N/A      9352    C+G   ...2txyewy\\StartMenuExperienceHost.exe      N/A      |\n",
      "|    0   N/A  N/A      9712    C+G   ...Brave-Browser\\Application\\brave.exe      N/A      |\n",
      "|    0   N/A  N/A     11288    C+G   ...oration\\NvContainer\\nvcontainer.exe      N/A      |\n",
      "|    0   N/A  N/A     12520    C+G   ...5.0_x64__w2gh52qy24etm\\Nahimic3.exe      N/A      |\n",
      "|    0   N/A  N/A     13004    C+G   ...Programs\\Microsoft VS Code\\Code.exe      N/A      |\n",
      "|    0   N/A  N/A     13640    C+G   ...__8wekyb3d8bbwe\\WindowsTerminal.exe      N/A      |\n",
      "|    0   N/A  N/A     14184    C+G   ...n\\138.0.3351.121\\msedgewebview2.exe      N/A      |\n",
      "|    0   N/A  N/A     17236    C+G   ...GeForce Experience\\NVIDIA Share.exe      N/A      |\n",
      "|    0   N/A  N/A     17884    C+G   ...nt.CBS_cw5n1h2txyewy\\SearchHost.exe      N/A      |\n",
      "|    0   N/A  N/A     20124    C+G   ...CBS_cw5n1h2txyewy\\TextInputHost.exe      N/A      |\n",
      "|    0   N/A  N/A     20408    C+G   ...ekyb3d8bbwe\\PhoneExperienceHost.exe      N/A      |\n",
      "|    0   N/A  N/A     22328    C+G   ...49.0_x64__zpdnekdrzrea0\\Spotify.exe      N/A      |\n",
      "|    0   N/A  N/A     22448    C+G   ...GeForce Experience\\NVIDIA Share.exe      N/A      |\n",
      "|    0   N/A  N/A     22824    C+G   ...n\\138.0.3351.121\\msedgewebview2.exe      N/A      |\n",
      "+-----------------------------------------------------------------------------------------+\n"
     ]
    }
   ],
   "source": [
    "!nvidia-smi"
   ]
  },
  {
   "cell_type": "code",
   "execution_count": 133,
   "id": "4248997b",
   "metadata": {},
   "outputs": [
    {
     "data": {
      "text/plain": [
       "0"
      ]
     },
     "execution_count": 133,
     "metadata": {},
     "output_type": "execute_result"
    }
   ],
   "source": [
    "# Check for GPU\n",
    "import torch\n",
    "torch.cuda.is_available()\n",
    "\n",
    "# Count number of devices\n",
    "torch.cuda.device_count()"
   ]
  },
  {
   "cell_type": "code",
   "execution_count": null,
   "id": "b09012a7",
   "metadata": {},
   "outputs": [],
   "source": []
  }
 ],
 "metadata": {
  "kernelspec": {
   "display_name": "Python 3",
   "language": "python",
   "name": "python3"
  },
  "language_info": {
   "codemirror_mode": {
    "name": "ipython",
    "version": 3
   },
   "file_extension": ".py",
   "mimetype": "text/x-python",
   "name": "python",
   "nbconvert_exporter": "python",
   "pygments_lexer": "ipython3",
   "version": "3.13.5"
  }
 },
 "nbformat": 4,
 "nbformat_minor": 5
}
